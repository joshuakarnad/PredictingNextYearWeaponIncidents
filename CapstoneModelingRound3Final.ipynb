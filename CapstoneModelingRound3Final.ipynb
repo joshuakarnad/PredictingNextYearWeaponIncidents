{
 "cells": [
  {
   "cell_type": "code",
   "execution_count": 1,
   "metadata": {
    "collapsed": true
   },
   "outputs": [],
   "source": [
    "import pandas as pd\n",
    "import numpy as np\n",
    "from matplotlib import pyplot as plt\n",
    "import seaborn as sns\n",
    "from sklearn.linear_model import Ridge\n",
    "from sklearn.linear_model import Lasso\n",
    "from sklearn.linear_model import LinearRegression\n",
    "from sklearn.neighbors import KNeighborsRegressor\n",
    "from sklearn.ensemble import RandomForestRegressor\n",
    "from sklearn.ensemble import GradientBoostingRegressor\n",
    "from sklearn.model_selection import cross_val_score\n",
    "from sklearn.model_selection import GridSearchCV\n",
    "from sklearn.model_selection import train_test_split\n",
    "from sklearn.model_selection import KFold\n",
    "from sklearn.model_selection import cross_val_predict\n",
    "from sklearn.metrics import make_scorer\n",
    "from sklearn.metrics import mean_squared_error\n",
    "from sklearn.metrics import r2_score\n",
    "\n",
    "def get_metrics(model, x_train, y_train, x_test, y_test):\n",
    "    model.fit(x_train, y_train)\n",
    "    y_pred = model.predict(x_test)\n",
    "    mse = mean_squared_error(y_test, y_pred)\n",
    "    rmse = mean_squared_error(y_test, y_pred)**(1/2)\n",
    "    r2training = model.score(x_train, y_train)\n",
    "    r2test = model.score(x_test, y_test)\n",
    "    r2 = r2_score(y_test, y_pred)\n",
    "    print(model)\n",
    "    print('R2 of Training:', r2training)\n",
    "    print('R2 of Test:', r2test)\n",
    "    print('R2 Score:', r2)\n",
    "    print('MSE:', mse)\n",
    "    print('RMSE:', rmse)\n",
    "    \n",
    "linear = LinearRegression()\n",
    "ridge = Ridge()\n",
    "lasso = Lasso()\n",
    "gbr = GradientBoostingRegressor()\n",
    "rfr = RandomForestRegressor()\n",
    "knn = KNeighborsRegressor()"
   ]
  },
  {
   "cell_type": "code",
   "execution_count": 2,
   "metadata": {
    "collapsed": true,
    "scrolled": true
   },
   "outputs": [],
   "source": [
    "df = pd.read_csv('/Users/joshuarkarnad/Desktop/Thinkful/Data/Important Data/WeaponDataV3.csv')"
   ]
  },
  {
   "cell_type": "code",
   "execution_count": 3,
   "metadata": {},
   "outputs": [
    {
     "name": "stdout",
     "output_type": "stream",
     "text": [
      "(24979, 138)\n"
     ]
    },
    {
     "data": {
      "text/plain": [
       "count     24979.000000\n",
       "mean         83.966011\n",
       "std         895.605375\n",
       "min           0.000000\n",
       "25%           2.000000\n",
       "50%          16.000000\n",
       "75%          64.000000\n",
       "max      122550.000000\n",
       "Name: Total OSS, dtype: float64"
      ]
     },
     "execution_count": 3,
     "metadata": {},
     "output_type": "execute_result"
    }
   ],
   "source": [
    "oss_cols = [c for c in df.columns if 'OSS' in c]\n",
    "df['Total OSS'] = df[oss_cols].sum(axis=1)\n",
    "print(df.shape)\n",
    "df['Total OSS'].describe()"
   ]
  },
  {
   "cell_type": "code",
   "execution_count": 4,
   "metadata": {},
   "outputs": [
    {
     "name": "stdout",
     "output_type": "stream",
     "text": [
      "(24979, 139)\n"
     ]
    },
    {
     "data": {
      "text/plain": [
       "count    24979.000000\n",
       "mean         1.139197\n",
       "std          6.215564\n",
       "min          0.000000\n",
       "25%          0.000000\n",
       "50%          0.000000\n",
       "75%          0.000000\n",
       "max        632.000000\n",
       "Name: Total Expulsion, dtype: float64"
      ]
     },
     "execution_count": 4,
     "metadata": {},
     "output_type": "execute_result"
    }
   ],
   "source": [
    "exp_cols = [c for c in df.columns if 'Expulsion' in c]\n",
    "df['Total Expulsion'] = df[exp_cols].sum(axis=1)\n",
    "print(df.shape)\n",
    "df['Total Expulsion'].describe()"
   ]
  },
  {
   "cell_type": "code",
   "execution_count": 5,
   "metadata": {
    "collapsed": true
   },
   "outputs": [],
   "source": [
    "df['Weapon Expulsion Percent'] = df['Weapon Expulsion'] / df['Total Expulsion']\n",
    "df.loc[~np.isfinite(df['Weapon Expulsion Percent']), 'Weapon OSS Percent'] = 0\n",
    "\n",
    "df['Any Possession of Knife'] = ((df['Possession of a Knife'] > 1).astype(int))\n",
    "df['More than 100 Law Enforcement Incidents'] = ((df['No. of Incidents Involving Local Law Enforcement'] > 100).astype(int))\n",
    "\n",
    "df['Enrollment More Than 1000'] = ((df['Enrollment'] > 1000).astype(int))\n",
    "\n",
    "df['Arrests More Than 5'] = ((df['Total Arrests'] > 5).astype(int))\n",
    "\n",
    "df['Weapon EXP Percent over 30'] = ((df['Weapon Expulsion Percent'] > .3).astype(int))\n",
    "\n",
    "df['Severe Weapon Punishments'] = df['Weapon Expulsion'] + df['Weapon OSS']\n",
    "df['Total OSS Expulsions'] = df['Total OSS'] + df['Total Expulsion']\n",
    "\n",
    "df['Dangerous School'] = ((df['Weapon Incidents'] > 40).astype(int))"
   ]
  },
  {
   "cell_type": "code",
   "execution_count": 6,
   "metadata": {},
   "outputs": [
    {
     "data": {
      "text/plain": [
       "count    24979.000000\n",
       "mean         2.009648\n",
       "std          5.968807\n",
       "min          0.000000\n",
       "25%          0.000000\n",
       "50%          0.000000\n",
       "75%          2.000000\n",
       "max        655.000000\n",
       "Name: Weapon Incidents, dtype: float64"
      ]
     },
     "execution_count": 6,
     "metadata": {},
     "output_type": "execute_result"
    }
   ],
   "source": [
    "df['Weapon Incidents'].describe()"
   ]
  },
  {
   "cell_type": "code",
   "execution_count": 7,
   "metadata": {
    "collapsed": true
   },
   "outputs": [],
   "source": [
    "df =df[df['Year'] < 2014]\n",
    "df = df.replace([np.inf, -np.inf], 0)\n",
    "df = df.fillna(0)\n",
    "df_train, df_test = train_test_split(df, test_size=0.2)\n",
    "X_train = df_train.loc[:, ~(df_train.columns).isin(['FollowingYearWeapons'])]\n",
    "Y_train = df_train['FollowingYearWeapons']\n",
    "X_test = df_test.loc[:, ~(df_test.columns).isin(['FollowingYearWeapons'])]\n",
    "Y_test = df_test['FollowingYearWeapons']"
   ]
  },
  {
   "cell_type": "code",
   "execution_count": 8,
   "metadata": {},
   "outputs": [
    {
     "name": "stdout",
     "output_type": "stream",
     "text": [
      "LinearRegression(copy_X=True, fit_intercept=True, n_jobs=1, normalize=False)\n",
      "R2 of Training: 0.521658737117\n",
      "R2 of Test: 0.496655521237\n",
      "R2 Score: 0.496655521237\n",
      "MSE: 7.76962260863\n",
      "RMSE: 2.78740427793\n"
     ]
    }
   ],
   "source": [
    "get_metrics(linear, X_train, Y_train, X_test, Y_test)"
   ]
  },
  {
   "cell_type": "code",
   "execution_count": 9,
   "metadata": {},
   "outputs": [
    {
     "name": "stdout",
     "output_type": "stream",
     "text": [
      "Ridge(alpha=1.0, copy_X=True, fit_intercept=True, max_iter=None,\n",
      "   normalize=False, random_state=None, solver='auto', tol=0.001)\n",
      "R2 of Training: 0.521655956765\n",
      "R2 of Test: 0.496571271464\n",
      "R2 Score: 0.496571271464\n",
      "MSE: 7.77092308765\n",
      "RMSE: 2.78763754596\n"
     ]
    }
   ],
   "source": [
    "get_metrics(ridge, X_train, Y_train, X_test, Y_test)"
   ]
  },
  {
   "cell_type": "code",
   "execution_count": 10,
   "metadata": {},
   "outputs": [
    {
     "name": "stdout",
     "output_type": "stream",
     "text": [
      "Lasso(alpha=1.0, copy_X=True, fit_intercept=True, max_iter=1000,\n",
      "   normalize=False, positive=False, precompute=False, random_state=None,\n",
      "   selection='cyclic', tol=0.0001, warm_start=False)\n",
      "R2 of Training: 0.484768115519\n",
      "R2 of Test: 0.488949557359\n",
      "R2 Score: 0.488949557359\n",
      "MSE: 7.8885718247\n",
      "RMSE: 2.8086601476\n"
     ]
    }
   ],
   "source": [
    "get_metrics(lasso, X_train, Y_train, X_test, Y_test)"
   ]
  },
  {
   "cell_type": "code",
   "execution_count": 11,
   "metadata": {},
   "outputs": [
    {
     "name": "stdout",
     "output_type": "stream",
     "text": [
      "GradientBoostingRegressor(alpha=0.9, criterion='friedman_mse', init=None,\n",
      "             learning_rate=0.1, loss='ls', max_depth=3, max_features=None,\n",
      "             max_leaf_nodes=None, min_impurity_decrease=0.0,\n",
      "             min_impurity_split=None, min_samples_leaf=1,\n",
      "             min_samples_split=2, min_weight_fraction_leaf=0.0,\n",
      "             n_estimators=100, presort='auto', random_state=None,\n",
      "             subsample=1.0, verbose=0, warm_start=False)\n",
      "R2 of Training: 0.631286412157\n",
      "R2 of Test: 0.495927703513\n",
      "R2 Score: 0.495927703513\n",
      "MSE: 7.78085719901\n",
      "RMSE: 2.78941879233\n"
     ]
    }
   ],
   "source": [
    "get_metrics(gbr, X_train, Y_train, X_test, Y_test)"
   ]
  },
  {
   "cell_type": "code",
   "execution_count": 12,
   "metadata": {},
   "outputs": [
    {
     "name": "stdout",
     "output_type": "stream",
     "text": [
      "RandomForestRegressor(bootstrap=True, criterion='mse', max_depth=None,\n",
      "           max_features='auto', max_leaf_nodes=None,\n",
      "           min_impurity_decrease=0.0, min_impurity_split=None,\n",
      "           min_samples_leaf=1, min_samples_split=2,\n",
      "           min_weight_fraction_leaf=0.0, n_estimators=10, n_jobs=1,\n",
      "           oob_score=False, random_state=None, verbose=0, warm_start=False)\n",
      "R2 of Training: 0.905696154348\n",
      "R2 of Test: 0.460969972543\n",
      "R2 Score: 0.460969972543\n",
      "MSE: 8.32046454219\n",
      "RMSE: 2.88452154476\n"
     ]
    }
   ],
   "source": [
    "get_metrics(rfr, X_train, Y_train, X_test, Y_test)"
   ]
  },
  {
   "cell_type": "code",
   "execution_count": 13,
   "metadata": {},
   "outputs": [
    {
     "data": {
      "image/png": "[encoded data removed]",
      "text/plain": [
       "<matplotlib.figure.Figure at 0x10c3efb70>"
      ]
     },
     "metadata": {},
     "output_type": "display_data"
    }
   ],
   "source": [
    "feature_importance = rfr.feature_importances_\n",
    "feature_importance = 100.0 * (feature_importance / feature_importance.max())\n",
    "sorted_idx = np.argsort(feature_importance)[::-1]\n",
    "pos = np.arange(sorted_idx.shape[0]) + .5\n",
    "plt.subplot(1, 2, 2)\n",
    "plt.barh(pos[0:15], feature_importance[sorted_idx[0:15]], align='center')\n",
    "plt.yticks(pos[0:15], X_train.columns[sorted_idx[0:15]])\n",
    "plt.xlabel('Relative Importance')\n",
    "plt.title('Variable Importance')\n",
    "plt.show()"
   ]
  },
  {
   "cell_type": "code",
   "execution_count": 14,
   "metadata": {},
   "outputs": [
    {
     "data": {
      "image/png": "[encoded data removed]",
      "text/plain": [
       "<matplotlib.figure.Figure at 0x10a50ff98>"
      ]
     },
     "metadata": {},
     "output_type": "display_data"
    }
   ],
   "source": [
    "feature_importance = gbr.feature_importances_\n",
    "feature_importance = 100.0 * (feature_importance / feature_importance.max())\n",
    "sorted_idx = np.argsort(feature_importance)[::-1]\n",
    "pos = np.arange(sorted_idx.shape[0]) + .5\n",
    "plt.subplot(1, 2, 2)\n",
    "plt.barh(pos[0:15], feature_importance[sorted_idx[0:15]], align='center')\n",
    "plt.yticks(pos[0:15], X_train.columns[sorted_idx[0:15]])\n",
    "plt.xlabel('Relative Importance')\n",
    "plt.title('Variable Importance')\n",
    "plt.show()"
   ]
  },
  {
   "cell_type": "code",
   "execution_count": 20,
   "metadata": {
    "collapsed": true
   },
   "outputs": [],
   "source": [
    "df.to_csv('/Users/joshuarkarnad/Desktop/Thinkful/Data/Important Data/WeaponDataV4.csv')"
   ]
  }
 ],
 "metadata": {
  "kernelspec": {
   "display_name": "Python 3",
   "language": "python",
   "name": "python3"
  },
  "language_info": {
   "codemirror_mode": {
    "name": "ipython",
    "version": 3
   },
   "file_extension": ".py",
   "mimetype": "text/x-python",
   "name": "python",
   "nbconvert_exporter": "python",
   "pygments_lexer": "ipython3",
   "version": "3.6.3"
  }
 },
 "nbformat": 4,
 "nbformat_minor": 2
}
