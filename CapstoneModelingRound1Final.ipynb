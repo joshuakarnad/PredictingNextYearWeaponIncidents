{
 "cells": [
  {
   "cell_type": "code",
   "execution_count": 1,
   "metadata": {
    "collapsed": true
   },
   "outputs": [],
   "source": [
    "import pandas as pd\n",
    "import numpy as np\n",
    "from matplotlib import pyplot as plt\n",
    "import seaborn as sns\n",
    "from sklearn.linear_model import Ridge\n",
    "from sklearn.linear_model import Lasso\n",
    "from sklearn.linear_model import LinearRegression\n",
    "from sklearn.neighbors import KNeighborsRegressor\n",
    "from sklearn.ensemble import RandomForestRegressor\n",
    "from sklearn.ensemble import GradientBoostingRegressor\n",
    "from sklearn.model_selection import cross_val_score\n",
    "from sklearn.model_selection import GridSearchCV\n",
    "from sklearn.model_selection import train_test_split\n",
    "from sklearn.model_selection import KFold\n",
    "from sklearn.model_selection import cross_val_predict\n",
    "from sklearn.metrics import make_scorer\n",
    "from sklearn.metrics import mean_squared_error\n",
    "from sklearn.metrics import r2_score\n",
    "from sklearn.svm import SVR"
   ]
  },
  {
   "cell_type": "code",
   "execution_count": 2,
   "metadata": {
    "scrolled": true
   },
   "outputs": [
    {
     "name": "stdout",
     "output_type": "stream",
     "text": [
      "DF: (24979, 64)\n",
      "DF2014: (2702, 64)\n",
      "DF2015: (2752, 64)\n"
     ]
    }
   ],
   "source": [
    "path = '/Users/joshuarkarnad/Desktop/Thinkful/Data/WeaponDataCleanedv2.csv'\n",
    "df = pd.read_csv(path)\n",
    "path2 = '/Users/joshuarkarnad/Desktop/Thinkful/Data/WeaponDataNoFollowingYears.csv'\n",
    "df_no_outcome = pd.read_csv(path2)\n",
    "df2015 = df_no_outcome[df_no_outcome['Year'] == 2015]\n",
    "df2015.shape\n",
    "df2014 = df[df['Year'] == 2014]\n",
    "df_correlation_holder = df[df['Year'] < 2014]\n",
    "print('DF:', df.shape)\n",
    "print('DF2014:', df2014.shape)\n",
    "print('DF2015:', df2015.shape)"
   ]
  },
  {
   "cell_type": "code",
   "execution_count": 3,
   "metadata": {},
   "outputs": [
    {
     "data": {
      "text/plain": [
       "(24979, 135)"
      ]
     },
     "execution_count": 3,
     "metadata": {},
     "output_type": "execute_result"
    }
   ],
   "source": [
    "df = df.drop(['School Name', 'Unnamed: 0'], axis =1)\n",
    "df = pd.get_dummies(df)\n",
    "df.shape"
   ]
  },
  {
   "cell_type": "code",
   "execution_count": 4,
   "metadata": {},
   "outputs": [
    {
     "data": {
      "text/plain": [
       "(2702, 135)"
      ]
     },
     "execution_count": 4,
     "metadata": {},
     "output_type": "execute_result"
    }
   ],
   "source": [
    "df2014 = df[df['Year'] == 2014]\n",
    "df2014.shape"
   ]
  },
  {
   "cell_type": "code",
   "execution_count": 14,
   "metadata": {
    "collapsed": true
   },
   "outputs": [],
   "source": [
    "def get_metrics(model, x_train, y_train, x_test, y_test):\n",
    "    model.fit(x_train, y_train)\n",
    "    y_pred = model.predict(x_test)\n",
    "    mse = mean_squared_error(y_test, y_pred)\n",
    "    rmse = mean_squared_error(y_test, y_pred)**(1/2)\n",
    "    r2training = model.score(x_train, y_train)\n",
    "    r2test = model.score(x_test, y_test)\n",
    "    r2 = r2_score(y_test, y_pred)\n",
    "    print(model)\n",
    "    print('R2 of Training:', r2training)\n",
    "    print('R2 of Test:', r2test)\n",
    "    print('R2 Score:', r2)\n",
    "    print('MSE:', mse)\n",
    "    print('RMSE:', rmse)"
   ]
  },
  {
   "cell_type": "code",
   "execution_count": 15,
   "metadata": {
    "collapsed": true
   },
   "outputs": [],
   "source": [
    "df_train, df_test = train_test_split(df, test_size=0.2)\n",
    "X_train = df_train.loc[:, ~(df_train.columns).isin(['FollowingYearWeapons'])]\n",
    "Y_train = df_train['FollowingYearWeapons']\n",
    "X_test = df_test.loc[:, ~(df_test.columns).isin(['FollowingYearWeapons'])]\n",
    "Y_test = df_test['FollowingYearWeapons']"
   ]
  },
  {
   "cell_type": "code",
   "execution_count": 16,
   "metadata": {
    "collapsed": true
   },
   "outputs": [],
   "source": [
    "linear = LinearRegression()\n",
    "ridge = Ridge()\n",
    "lasso = Lasso()\n",
    "gbr = GradientBoostingRegressor()\n",
    "rfr = RandomForestRegressor()\n",
    "knn = KNeighborsRegressor()\n",
    "svr = SVR()"
   ]
  },
  {
   "cell_type": "code",
   "execution_count": 17,
   "metadata": {},
   "outputs": [
    {
     "name": "stdout",
     "output_type": "stream",
     "text": [
      "LinearRegression(copy_X=True, fit_intercept=True, n_jobs=1, normalize=False)\n",
      "R2 of Training: 0.509605702806\n",
      "R2 of Test: 0.509082241693\n",
      "R2 Score: 0.509082241693\n",
      "MSE: 7.90828214931\n",
      "RMSE: 2.81216680681\n"
     ]
    }
   ],
   "source": [
    "get_metrics(linear, X_train, Y_train, X_test, Y_test)"
   ]
  },
  {
   "cell_type": "code",
   "execution_count": 18,
   "metadata": {},
   "outputs": [
    {
     "name": "stdout",
     "output_type": "stream",
     "text": [
      "Ridge(alpha=1.0, copy_X=True, fit_intercept=True, max_iter=None,\n",
      "   normalize=False, random_state=None, solver='auto', tol=0.001)\n",
      "R2 of Training: 0.509603931832\n",
      "R2 of Test: 0.509108835983\n",
      "R2 Score: 0.509108835983\n",
      "MSE: 7.90785373712\n",
      "RMSE: 2.81209063459\n"
     ]
    }
   ],
   "source": [
    "get_metrics(ridge, X_train, Y_train, X_test, Y_test)"
   ]
  },
  {
   "cell_type": "code",
   "execution_count": 19,
   "metadata": {},
   "outputs": [
    {
     "name": "stdout",
     "output_type": "stream",
     "text": [
      "Lasso(alpha=1.0, copy_X=True, fit_intercept=True, max_iter=1000,\n",
      "   normalize=False, positive=False, precompute=False, random_state=None,\n",
      "   selection='cyclic', tol=0.0001, warm_start=False)\n",
      "R2 of Training: 0.476110839443\n",
      "R2 of Test: 0.499421493227\n",
      "R2 Score: 0.499421493227\n",
      "MSE: 8.06390887772\n",
      "RMSE: 2.8397022516\n"
     ]
    }
   ],
   "source": [
    "get_metrics(lasso, X_train, Y_train, X_test, Y_test)"
   ]
  },
  {
   "cell_type": "code",
   "execution_count": 20,
   "metadata": {},
   "outputs": [
    {
     "name": "stdout",
     "output_type": "stream",
     "text": [
      "GradientBoostingRegressor(alpha=0.9, criterion='friedman_mse', init=None,\n",
      "             learning_rate=0.1, loss='ls', max_depth=3, max_features=None,\n",
      "             max_leaf_nodes=None, min_impurity_decrease=0.0,\n",
      "             min_impurity_split=None, min_samples_leaf=1,\n",
      "             min_samples_split=2, min_weight_fraction_leaf=0.0,\n",
      "             n_estimators=100, presort='auto', random_state=None,\n",
      "             subsample=1.0, verbose=0, warm_start=False)\n",
      "R2 of Training: 0.620892928454\n",
      "R2 of Test: 0.501678347409\n",
      "R2 Score: 0.501678347409\n",
      "MSE: 8.02755280924\n",
      "RMSE: 2.83329363273\n"
     ]
    }
   ],
   "source": [
    "get_metrics(gbr, X_train, Y_train, X_test, Y_test)"
   ]
  },
  {
   "cell_type": "code",
   "execution_count": 21,
   "metadata": {
    "scrolled": true
   },
   "outputs": [
    {
     "name": "stdout",
     "output_type": "stream",
     "text": [
      "RandomForestRegressor(bootstrap=True, criterion='mse', max_depth=None,\n",
      "           max_features='auto', max_leaf_nodes=None,\n",
      "           min_impurity_decrease=0.0, min_impurity_split=None,\n",
      "           min_samples_leaf=1, min_samples_split=2,\n",
      "           min_weight_fraction_leaf=0.0, n_estimators=10, n_jobs=1,\n",
      "           oob_score=False, random_state=None, verbose=0, warm_start=False)\n",
      "R2 of Training: 0.898853189872\n",
      "R2 of Test: 0.477365932097\n",
      "R2 Score: 0.477365932097\n",
      "MSE: 8.41920586469\n",
      "RMSE: 2.90158678393\n"
     ]
    }
   ],
   "source": [
    "get_metrics(rfr, X_train, Y_train, X_test, Y_test)"
   ]
  },
  {
   "cell_type": "code",
   "execution_count": 22,
   "metadata": {},
   "outputs": [
    {
     "name": "stdout",
     "output_type": "stream",
     "text": [
      "KNeighborsRegressor(algorithm='auto', leaf_size=30, metric='minkowski',\n",
      "          metric_params=None, n_jobs=1, n_neighbors=5, p=2,\n",
      "          weights='uniform')\n",
      "R2 of Training: 0.586240238853\n",
      "R2 of Test: 0.380863612668\n",
      "R2 Score: 0.380863612668\n",
      "MSE: 9.97377902322\n",
      "RMSE: 3.15812903841\n"
     ]
    }
   ],
   "source": [
    "get_metrics(knn, X_train, Y_train, X_test, Y_test)"
   ]
  },
  {
   "cell_type": "code",
   "execution_count": null,
   "metadata": {
    "collapsed": true
   },
   "outputs": [],
   "source": []
  },
  {
   "cell_type": "code",
   "execution_count": null,
   "metadata": {
    "collapsed": true
   },
   "outputs": [],
   "source": []
  }
 ],
 "metadata": {
  "kernelspec": {
   "display_name": "Python 3",
   "language": "python",
   "name": "python3"
  },
  "language_info": {
   "codemirror_mode": {
    "name": "ipython",
    "version": 3
   },
   "file_extension": ".py",
   "mimetype": "text/x-python",
   "name": "python",
   "nbconvert_exporter": "python",
   "pygments_lexer": "ipython3",
   "version": "3.6.3"
  }
 },
 "nbformat": 4,
 "nbformat_minor": 2
}
