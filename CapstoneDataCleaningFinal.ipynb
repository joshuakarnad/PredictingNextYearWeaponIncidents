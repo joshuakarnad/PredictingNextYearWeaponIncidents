{
 "cells": [
  {
   "cell_type": "code",
   "execution_count": 1,
   "metadata": {
    "collapsed": true
   },
   "outputs": [],
   "source": [
    "import pandas as pd\n",
    "import numpy as np\n",
    "import matplotlib.pyplot as plt"
   ]
  },
  {
   "cell_type": "code",
   "execution_count": 2,
   "metadata": {},
   "outputs": [
    {
     "data": {
      "text/plain": [
       "(67972, 88)"
      ]
     },
     "execution_count": 2,
     "metadata": {},
     "output_type": "execute_result"
    }
   ],
   "source": [
    "df = pd.read_csv('/Users/joshuarkarnad/Desktop/Thinkful/school.csv')\n",
    "df.shape"
   ]
  },
  {
   "cell_type": "code",
   "execution_count": 3,
   "metadata": {},
   "outputs": [
    {
     "data": {
      "text/plain": [
       "Sexual Offenses                                                  63866\n",
       "Failure of Disorderly Persons to Disperse Upon Official Order    60543\n",
       "Criminal Trespass                                                60543\n",
       "Suicide - Attempted                                              60543\n",
       "Suicide - Committed                                              60543\n",
       "Terroristic Threats (excl bomb threats)                          60543\n",
       "Open Lewdness                                                    60543\n",
       "Statutory Sexual Assault                                         60543\n",
       "Obscene and other sexual materials and performances              60543\n",
       "Minor Altercation                                                60543\n",
       "Unlawful Restraint                                               60543\n",
       "Cyber Harassment                                                 60543\n",
       "Institutional Sexual Assault                                     60543\n",
       "Indecent Exposure                                                60543\n",
       "Stalking                                                         60543\n",
       "Possession of a Firearm                                          56561\n",
       "Ideation                                                         56463\n",
       "Assaults on Students                                             52740\n",
       "Assaults on Staff                                                52740\n",
       "Possession of Other Weapon                                       41832\n",
       "Other Misconduct                                                 37402\n",
       "Attempted                                                        26490\n",
       "Committed                                                        26490\n",
       "Other                                                            26140\n",
       "Violence Expulsion                                               22902\n",
       "Violence OSS                                                     22902\n",
       "Truancy Rate                                                     22902\n",
       "Academic Expulsion                                               22902\n",
       "Tobacco OSS                                                      22902\n",
       "Conduct OSS                                                      22902\n",
       "                                                                 ...  \n",
       "School Number                                                    11040\n",
       "Enrollment                                                        7590\n",
       "Terroristic Threats                                               7429\n",
       "School Name                                                       4040\n",
       "AUNbr                                                             1224\n",
       "LEA Name                                                           962\n",
       "County                                                             218\n",
       "Fighting                                                             0\n",
       "Racial/Ethnic Intimidation                                           0\n",
       "Total Arrests                                                        0\n",
       "Threatening a School Official/Student                                0\n",
       "Sale/Distribution of a Controlled Substance                          0\n",
       "Arson                                                                0\n",
       "Sale, Possession, Use, or Under the Influence of Alcohol             0\n",
       "Robbery                                                              0\n",
       "Assignments to Alternative Education                                 0\n",
       "Attempt or Commission of Murder/Manslaughter                         0\n",
       "Reckless Endangering                                                 0\n",
       "Possession/Use of a Controlled Substance                             0\n",
       "Bomb Threats                                                         0\n",
       "Incidents                                                            0\n",
       "Possession, Use, or Sale of Tobacco                                  0\n",
       "Possession of a Knife                                                0\n",
       "Other Harrassment/Intimidation                                       0\n",
       "Offenders                                                            0\n",
       "No. of Incidents Involving Local Law Enforcement                     0\n",
       "LEA Type                                                             0\n",
       "Disorderly Conduct                                                   0\n",
       "Kidnapping/Interference With Custody of Child                        0\n",
       "Year                                                                 0\n",
       "Length: 88, dtype: int64"
      ]
     },
     "execution_count": 3,
     "metadata": {},
     "output_type": "execute_result"
    }
   ],
   "source": [
    "df.isnull().sum().sort_values(ascending=False)"
   ]
  },
  {
   "cell_type": "code",
   "execution_count": 4,
   "metadata": {},
   "outputs": [
    {
     "data": {
      "text/plain": [
       "(58227, 61)"
      ]
     },
     "execution_count": 4,
     "metadata": {},
     "output_type": "execute_result"
    }
   ],
   "source": [
    "df = df[df['Enrollment'] > 100]\n",
    "df = df[df['Enrollment'] < 10000]\n",
    "df = df.drop(['School Number', 'LEA Name', 'AUNbr'], axis = 1)\n",
    "drop_cols =['Sexual Offenses', 'Failure of Disorderly Persons to Disperse Upon Official Order',\n",
    "'Criminal Trespass','Suicide - Attempted', 'Suicide - Committed',\n",
    "'Terroristic Threats (excl bomb threats)', 'Open Lewdness', \n",
    "'Statutory Sexual Assault', 'Obscene and other sexual materials and performances', \n",
    "'Minor Altercation', 'Unlawful Restraint','Cyber Harassment', 'Institutional Sexual Assault',                                    \n",
    "'Indecent Exposure',                                              \n",
    "'Stalking',\n",
    "'Possession of a Firearm',                                        \n",
    "'Ideation',                                                      \n",
    "'Assaults on Students',                                           \n",
    "'Assaults on Staff',                                          \n",
    "'Possession of Other Weapon',                                       \n",
    "'Other Misconduct',                                    \n",
    "'Attempted',                                                \n",
    "'Committed',                                                      \n",
    "'Other']\n",
    "df = df.drop(drop_cols, axis=1)\n",
    "df.shape"
   ]
  },
  {
   "cell_type": "code",
   "execution_count": 5,
   "metadata": {},
   "outputs": [
    {
     "data": {
      "text/plain": [
       "2017    3724\n",
       "2009    3716\n",
       "2008    3701\n",
       "2010    3695\n",
       "2006    3678\n",
       "2005    3677\n",
       "2004    3668\n",
       "2011    3666\n",
       "2007    3665\n",
       "2002    3654\n",
       "2003    3642\n",
       "2012    3609\n",
       "2014    3573\n",
       "2015    3527\n",
       "2013    3525\n",
       "2016    3507\n",
       "Name: Year, dtype: int64"
      ]
     },
     "execution_count": 5,
     "metadata": {},
     "output_type": "execute_result"
    }
   ],
   "source": [
    "df['Year'].value_counts()"
   ]
  },
  {
   "cell_type": "code",
   "execution_count": 6,
   "metadata": {},
   "outputs": [
    {
     "data": {
      "text/plain": [
       "(31175, 61)"
      ]
     },
     "execution_count": 6,
     "metadata": {},
     "output_type": "execute_result"
    }
   ],
   "source": [
    "df['Drug and Alcohol Expulsion'] = df['Drug and Alcohol Expulsion'].fillna(50000)\n",
    "df = df[df['Drug and Alcohol Expulsion'] != 50000]\n",
    "df['School Name'] = df['School Name'].fillna('50000')\n",
    "df = df[df['School Name'] != '50000']\n",
    "df['Terroristic Threats'] = df['Terroristic Threats'].fillna(50000)\n",
    "df = df[df['Terroristic Threats'] != 50000]\n",
    "df['LEA Type'] = df['LEA Type'].fillna('50000')\n",
    "df = df[df['LEA Type'] != '50000']\n",
    "df['Sexual Harassment'] = df['Sexual Harassment'].fillna(50000)\n",
    "df = df[df['Sexual Harassment'] != 50000]\n",
    "df.shape"
   ]
  },
  {
   "cell_type": "code",
   "execution_count": 7,
   "metadata": {},
   "outputs": [
    {
     "data": {
      "text/plain": [
       "2009    3687\n",
       "2008    3673\n",
       "2010    3665\n",
       "2007    3638\n",
       "2011    3635\n",
       "2012    3576\n",
       "2013    3492\n",
       "2014    3057\n",
       "2015    2752\n",
       "Name: Year, dtype: int64"
      ]
     },
     "execution_count": 7,
     "metadata": {},
     "output_type": "execute_result"
    }
   ],
   "source": [
    "df['Year'].value_counts()"
   ]
  },
  {
   "cell_type": "code",
   "execution_count": 8,
   "metadata": {
    "collapsed": true
   },
   "outputs": [],
   "source": [
    "weapons = ['Handgun', 'Rifle/Shotgun', 'Weapon Expulsion', 'Other Firearm',\n",
    "           'Weapon OSS', 'Attempt or Commission of Murder/Manslaughter', 'Explosive', \n",
    "           'Possession of a Knife']\n",
    "df['Weapon Incidents'] = df[weapons].sum(axis=1)\n",
    "df['FollowingYearWeapons'] = 0"
   ]
  },
  {
   "cell_type": "code",
   "execution_count": 9,
   "metadata": {},
   "outputs": [
    {
     "name": "stderr",
     "output_type": "stream",
     "text": [
      "31175it [01:47, 289.70it/s]\n"
     ]
    }
   ],
   "source": [
    "from tqdm import tqdm\n",
    "for i,row in tqdm(df.iterrows()):\n",
    "    if i < 100000:    \n",
    "        rowschool = row['School Name']\n",
    "        current_year = row['Year']\n",
    "        following_year = row['Year'] + 1\n",
    "        rowschool_nextyear = df[(df['School Name'] == rowschool) & (df['Year'] == following_year)]\n",
    "        #     print(rowschool_nextyear['Expulsions'])\n",
    "        if len(rowschool_nextyear) < 1:\n",
    "            df.loc[i, 'FollowingYearWeapons'] = -10\n",
    "        else:\n",
    "            df.loc[i, 'FollowingYearWeapons'] = rowschool_nextyear['Weapon Incidents'].values[0]"
   ]
  },
  {
   "cell_type": "code",
   "execution_count": 10,
   "metadata": {},
   "outputs": [
    {
     "data": {
      "text/plain": [
       "Central El Sch                              49\n",
       "Washington El Sch                           45\n",
       "Lincoln El Sch                              42\n",
       "Mountain View El Sch                        41\n",
       "Jefferson El Sch                            36\n",
       "Fairview El Sch                             32\n",
       "Grandview El Sch                            27\n",
       "Central HS                                  26\n",
       "South Side El Sch                           25\n",
       "Washington EL School                        24\n",
       "Highland El Sch                             24\n",
       "Clearview El Sch                            24\n",
       "Roosevelt MS                                22\n",
       "Edgewood El Sch                             22\n",
       "Lincoln EL School                           21\n",
       "Central EL School                           21\n",
       "Perry El Sch                                20\n",
       "Lafayette El Sch                            20\n",
       "Richland El Sch                             19\n",
       "Eisenhower El Sch                           19\n",
       "Springfield El Sch                          18\n",
       "Hoover El Sch                               18\n",
       "Franklin El Sch                             18\n",
       "Montgomery El Sch                           18\n",
       "Pleasant Valley El Sch                      18\n",
       "Southern MS                                 18\n",
       "Grandview EL School                         18\n",
       "William Penn El Sch                         18\n",
       "Hopewell El Sch                             18\n",
       "Northeast MS                                18\n",
       "                                            ..\n",
       "Hamburg MS                                   1\n",
       "Mckinley William School                      1\n",
       "Portage Area MS                              1\n",
       "Baden Academy CS                             1\n",
       "Linesville Conneaut Summit HS                1\n",
       "Saint Clair Area El MS                       1\n",
       "Monocacy Kdg Ctr                             1\n",
       "Young Scholars Kenderton CS                  1\n",
       "North Annville El Sch                        1\n",
       "Downingtown Sixth Grade Center               1\n",
       "Mastery CS - Francis D. Pastorius Elemen     1\n",
       "Youth Forestry Camp #3                       1\n",
       "Pocono Mountain East HS/Academy              1\n",
       "Amity EL Ctr                                 1\n",
       "Mann William B Sch                           1\n",
       "Douglass Frederick Sch                       1\n",
       "Allegheny El Sch 1                           1\n",
       "Math Sci and Tech Community CS               1\n",
       "Sykesville El Sch                            1\n",
       "Lehigh El Sch                                1\n",
       "Aldan El Sch                                 1\n",
       "Penn Hills El Sch                            1\n",
       "Premier Arts and Science Charter School      1\n",
       "Pocono Mountain SD                           1\n",
       "Valley JSHS                                  1\n",
       "Hazle EL School                              1\n",
       "Jefferson-Morgan MS HS                       1\n",
       "North Fayette County AVTS                    1\n",
       "Penn Wood 9th Grade Academy                  1\n",
       "Maple Manor El/MS                            1\n",
       "Name: School Name, Length: 5879, dtype: int64"
      ]
     },
     "execution_count": 10,
     "metadata": {},
     "output_type": "execute_result"
    }
   ],
   "source": [
    "df['School Name'].value_counts()"
   ]
  },
  {
   "cell_type": "code",
   "execution_count": 12,
   "metadata": {},
   "outputs": [
    {
     "data": {
      "text/plain": [
       "2015    2752\n",
       "2009    1961\n",
       "2013     591\n",
       "2014     355\n",
       "2010     143\n",
       "2011     128\n",
       "2012     120\n",
       "2007     111\n",
       "2008      35\n",
       "Name: Year, dtype: int64"
      ]
     },
     "execution_count": 12,
     "metadata": {},
     "output_type": "execute_result"
    }
   ],
   "source": [
    "df_neg = df[df['FollowingYearWeapons'] < -1]\n",
    "df_neg['Year'].value_counts()"
   ]
  },
  {
   "cell_type": "code",
   "execution_count": 14,
   "metadata": {
    "collapsed": true
   },
   "outputs": [],
   "source": [
    "df.to_csv('/Users/joshuarkarnad/Desktop/Thinkful/Data/WeaponDataCleaned.csv')\n",
    "df_neg.to_csv('/Users/joshuarkarnad/Desktop/Thinkful/Data/WeaponDataNoFollowingYears.csv')"
   ]
  },
  {
   "cell_type": "code",
   "execution_count": 15,
   "metadata": {
    "collapsed": true
   },
   "outputs": [],
   "source": [
    "df = df[df['FollowingYearWeapons'] > -1]\n",
    "df.to_csv('/Users/joshuarkarnad/Desktop/Thinkful/Data/WeaponDataCleanedv2.csv')"
   ]
  },
  {
   "cell_type": "code",
   "execution_count": 13,
   "metadata": {},
   "outputs": [
    {
     "data": {
      "text/plain": [
       "(24979, 63)"
      ]
     },
     "execution_count": 13,
     "metadata": {},
     "output_type": "execute_result"
    }
   ],
   "source": [
    "df.shape"
   ]
  }
 ],
 "metadata": {
  "kernelspec": {
   "display_name": "Python 3",
   "language": "python",
   "name": "python3"
  },
  "language_info": {
   "codemirror_mode": {
    "name": "ipython",
    "version": 3
   },
   "file_extension": ".py",
   "mimetype": "text/x-python",
   "name": "python",
   "nbconvert_exporter": "python",
   "pygments_lexer": "ipython3",
   "version": "3.6.3"
  }
 },
 "nbformat": 4,
 "nbformat_minor": 2
}
